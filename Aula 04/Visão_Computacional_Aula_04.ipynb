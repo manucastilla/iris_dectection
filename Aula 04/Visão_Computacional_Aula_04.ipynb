{
  "nbformat": 4,
  "nbformat_minor": 0,
  "metadata": {
    "colab": {
      "name": "Visão_Computacional_Aula_04.ipynb",
      "provenance": [],
      "collapsed_sections": [],
      "include_colab_link": true
    },
    "kernelspec": {
      "name": "python3",
      "display_name": "Python 3"
    }
  },
  "cells": [
    {
      "cell_type": "markdown",
      "metadata": {
        "id": "view-in-github",
        "colab_type": "text"
      },
      "source": [
        "<a href=\"https://colab.research.google.com/github/manucastilla/iris_dectection/blob/main/Aula%2004/Visa%CC%83o_Computacional_Aula_04.ipynb\" target=\"_parent\"><img src=\"https://colab.research.google.com/assets/colab-badge.svg\" alt=\"Open In Colab\"/></a>"
      ]
    },
    {
      "cell_type": "markdown",
      "metadata": {
        "id": "nxY7Hh85nCjZ"
      },
      "source": [
        "## **VISÃO COMPUTACIONAL - AULA 04**\n",
        "\n",
        "**Objetivos da aula:**\n",
        "\n",
        "*   conhecer o software G6-iris-recognition\n",
        "*   praticar com o software G6-iris-recognition\n",
        "*   especificar a competição de reconhecimento de íris dentro do curso\n",
        "\n",
        "\n",
        "\n",
        "\n",
        "\n",
        "\n",
        "\n"
      ]
    },
    {
      "cell_type": "markdown",
      "metadata": {
        "id": "lcnbn_ynorRn"
      },
      "source": [
        "**Instalação do Módulo G6 (Gate 6)**\n",
        "\n",
        "Documentação do Módulo G6: https://pypi.org/project/G6-iris-recognition/ \n",
        "\n",
        "Para instalar o módulo de reconhecimento de íris G6, seguir os passos abaixo:\n",
        "\n",
        "1. Atualizar o módulo scikit-image do Google Colab:"
      ]
    },
    {
      "cell_type": "code",
      "metadata": {
        "id": "7GwUochDyKk-"
      },
      "source": [
        "!pip3 install scikit-image --upgrade"
      ],
      "execution_count": null,
      "outputs": []
    },
    {
      "cell_type": "markdown",
      "metadata": {
        "id": "zTCiXsAqyNxV"
      },
      "source": [
        "   2. Fazer um clone do módulo G6 Iris Recognition do repositório abaixo:"
      ]
    },
    {
      "cell_type": "code",
      "metadata": {
        "id": "OedhTHPUyZBS"
      },
      "source": [
        "!git clone https://github.com/lucianosilva-github/G6_iris_recognition.git"
      ],
      "execution_count": null,
      "outputs": []
    },
    {
      "cell_type": "markdown",
      "metadata": {
        "id": "3lgxvMV99ynt"
      },
      "source": [
        "   3. Fazer um clone do banco de imagens de iris:"
      ]
    },
    {
      "cell_type": "code",
      "metadata": {
        "id": "qtiGBXZq93yC"
      },
      "source": [
        "!git clone https://github.com/lucianosilva-github/images-tutorial.git"
      ],
      "execution_count": null,
      "outputs": []
    },
    {
      "cell_type": "markdown",
      "metadata": {
        "id": "QRkYiS_t9J8E"
      },
      "source": [
        "   4. Criar o arquivo vazio model.pickle \n",
        "  "
      ]
    },
    {
      "cell_type": "markdown",
      "metadata": {
        "id": "nvi_ksCho9_f"
      },
      "source": [
        "**Uso do Módulo G6 (Gate 6)**\n",
        "\n",
        "Existem três passos para uso do módulo de reconhecimento de íris G6:\n",
        "\n",
        "1.   **Criação do arquivo vazio de modelo de reconhecimento** (model.pickle), que será preenchido pelo módulo G6. \n",
        "\n",
        "2.   **Construção de um modelo de reconhecimento** (model.pickle), tendo como base um banco de dados de imagens. Este banco deve ser organizado dentro de uma pasta (images-tutorial, no nosso exemplo) e, o conjunto de íris de cada pessoa, deve estar dentro de uma pasta. Por exemplo, images-tutorial/0002 irá indicar o conjunto de íris da pessoa 0002.\n",
        "3.   **Uso do modelo de reconhecimento** (model.pickle), onde colocamos a imagem que queremos reconhecer. No exemplo abaixo, estamos tentando reconhecer a íris da primeira pessoa, através do arquivo images-tutorial/0002/0002_000.bmp.\n",
        "\n",
        "\n",
        "\n",
        "\n"
      ]
    },
    {
      "cell_type": "code",
      "metadata": {
        "id": "cn-WwCzrBplr"
      },
      "source": [
        "import G6_iris_recognition\n",
        "G6_iris_recognition.iris_model_train(\"images-tutorial\",\"model.pickle\")"
      ],
      "execution_count": null,
      "outputs": []
    },
    {
      "cell_type": "code",
      "metadata": {
        "id": "5rVUcS4FANXl"
      },
      "source": [
        "iris_name = G6_iris_recognition.iris_model_test(\"model.pickle\",\"images-tutorial/0002/0002_000.bmp\")\n",
        "print(iris_name!='unmatch')"
      ],
      "execution_count": null,
      "outputs": []
    },
    {
      "cell_type": "markdown",
      "metadata": {
        "id": "KOgyXhOzsrw5"
      },
      "source": [
        "# **EXERCÍCIO**\n",
        "\n",
        "*   Construir um treinamento no módulo G6 com duas íris de cada uma das cinco primeiras pessoas (0001 a 0004) (clonar https://github.com/lucianosilva-github/images.git)\n",
        "*   Verificar a qualidade do treinamento testando cada uma das íris usadas no treinamento\n",
        "\n"
      ]
    },
    {
      "cell_type": "code",
      "metadata": {
        "id": "_aMjKV1KtklA"
      },
      "source": [
        "#seu código vai aqui"
      ],
      "execution_count": null,
      "outputs": []
    },
    {
      "cell_type": "markdown",
      "metadata": {
        "id": "-bchKMRxtrJH"
      },
      "source": [
        "# **EXERCÍCIO**\n",
        "\n",
        "Será que a qualidade das imagens influencia na qualidade do treinamento ? Analise e experimente melhorar a qualidade das imagens usadas no exercício anterior, tendo como base as técnicas estudadas na disciplina até o momento."
      ]
    },
    {
      "cell_type": "code",
      "metadata": {
        "id": "mSXAXFsnuEeX"
      },
      "source": [
        "#seu código vai aqui"
      ],
      "execution_count": null,
      "outputs": []
    },
    {
      "cell_type": "markdown",
      "metadata": {
        "id": "J9SPAQQvuXrV"
      },
      "source": [
        "**PROJETO IRIS - DATA DE ENTREGA: 07/10/2020**\n",
        "\n",
        "\n",
        "*   Crie um modelo de treinamento usando a base de dados fornecida (60 pessoas com 20 íris cada ~ 1200 imagens). Durante o treinamento, você pode utilizar qualquer procedimento para melhorar a qualidade das imagens.\n",
        "*   Obtenha a matriz de confusão do seu modelo e analise os resultados\n",
        "\n",
        "**O que entregar:** notebook implementado em Python. \n",
        "\n",
        "\n"
      ]
    }
  ]
}